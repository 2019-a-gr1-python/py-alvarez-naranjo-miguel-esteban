{
 "cells": [
  {
   "cell_type": "markdown",
   "metadata": {},
   "source": [
    "# Errores"
   ]
  },
  {
   "cell_type": "code",
   "execution_count": 1,
   "metadata": {},
   "outputs": [],
   "source": [
    "miguel = {\n",
    "    'nombre':'Miguel'\n",
    "}"
   ]
  },
  {
   "cell_type": "code",
   "execution_count": 3,
   "metadata": {},
   "outputs": [],
   "source": [
    "# miguel['asd']  #keyEror\n",
    "#++  # Syntax Error\n",
    "#asd.asd #Name error\n",
    "# \"1\" + 1  # Type Error\n"
   ]
  },
  {
   "cell_type": "code",
   "execution_count": 10,
   "metadata": {},
   "outputs": [
    {
     "name": "stdout",
     "output_type": "stream",
     "text": [
      "Miguel\n",
      "Error: <class 'KeyError'> Type o KEY ERROR\n"
     ]
    }
   ],
   "source": [
    "try:\n",
    "    print(miguel['nombre'])\n",
    "    miguel['asd']\n",
    "    \"10\" + 1\n",
    "    asd.asd\n",
    "except NameError as nameError:\n",
    "    print(f\"Error: {nameError} Name ERROR\")\n",
    "except (TypeError, KeyError) as typeError:\n",
    "    print(f\"Error: {KeyError} Type o KEY ERROR\")\n",
    "except Exception as error:\n",
    "    print(f\"Error: {error} KEY ERROR\")\n",
    "    print(f\"TraceBack: {error.__traceback__}\")"
   ]
  },
  {
   "cell_type": "code",
   "execution_count": null,
   "metadata": {},
   "outputs": [],
   "source": []
  },
  {
   "cell_type": "code",
   "execution_count": null,
   "metadata": {},
   "outputs": [],
   "source": []
  },
  {
   "cell_type": "code",
   "execution_count": null,
   "metadata": {},
   "outputs": [],
   "source": []
  },
  {
   "cell_type": "code",
   "execution_count": null,
   "metadata": {},
   "outputs": [],
   "source": []
  },
  {
   "cell_type": "code",
   "execution_count": null,
   "metadata": {},
   "outputs": [],
   "source": []
  }
 ],
 "metadata": {
  "kernelspec": {
   "display_name": "Python 3",
   "language": "python",
   "name": "python3"
  },
  "language_info": {
   "codemirror_mode": {
    "name": "ipython",
    "version": 3
   },
   "file_extension": ".py",
   "mimetype": "text/x-python",
   "name": "python",
   "nbconvert_exporter": "python",
   "pygments_lexer": "ipython3",
   "version": "3.7.3"
  }
 },
 "nbformat": 4,
 "nbformat_minor": 2
}
