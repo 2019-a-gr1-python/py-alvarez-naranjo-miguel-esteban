{
 "cells": [
  {
   "cell_type": "markdown",
   "metadata": {},
   "source": [
    "# LOOPS"
   ]
  },
  {
   "cell_type": "code",
   "execution_count": 1,
   "metadata": {},
   "outputs": [],
   "source": [
    "lista_numeros = [1,2,3,4,5,6,7,8,9,10]"
   ]
  },
  {
   "cell_type": "code",
   "execution_count": 2,
   "metadata": {},
   "outputs": [
    {
     "name": "stdout",
     "output_type": "stream",
     "text": [
      "1\n",
      "2\n",
      "3\n",
      "4\n",
      "5\n",
      "6\n",
      "7\n",
      "8\n",
      "9\n",
      "10\n"
     ]
    }
   ],
   "source": [
    "for numero in lista_numeros:\n",
    "    print(numero)"
   ]
  },
  {
   "cell_type": "code",
   "execution_count": 4,
   "metadata": {},
   "outputs": [],
   "source": [
    "rango1 = range(1,5)"
   ]
  },
  {
   "cell_type": "code",
   "execution_count": 5,
   "metadata": {},
   "outputs": [
    {
     "data": {
      "text/plain": [
       "range"
      ]
     },
     "execution_count": 5,
     "metadata": {},
     "output_type": "execute_result"
    }
   ],
   "source": [
    "type(rango1)"
   ]
  },
  {
   "cell_type": "code",
   "execution_count": 6,
   "metadata": {},
   "outputs": [
    {
     "name": "stdout",
     "output_type": "stream",
     "text": [
      "indice: 0\n",
      "indice: 1\n",
      "indice: 2\n",
      "indice: 3\n",
      "indice: 5\n",
      "indice: 6\n",
      "indice: 7\n",
      "indice: 9\n"
     ]
    }
   ],
   "source": [
    "for numero in range(10):\n",
    "    if(numero == 4 or numero == 8):\n",
    "        continue\n",
    "    print(f\"indice: {numero}\")"
   ]
  },
  {
   "cell_type": "code",
   "execution_count": 9,
   "metadata": {},
   "outputs": [
    {
     "name": "stdout",
     "output_type": "stream",
     "text": [
      "indice: 0\n",
      "indice: 1\n",
      "indice: 2\n",
      "indice: 3\n"
     ]
    }
   ],
   "source": [
    "for numero in range(10):\n",
    "    if(numero == 4):\n",
    "        break\n",
    "    print(f\"indice: {numero}\")"
   ]
  },
  {
   "cell_type": "code",
   "execution_count": 16,
   "metadata": {},
   "outputs": [
    {
     "name": "stdout",
     "output_type": "stream",
     "text": [
      "Numero auxiliar:0\n",
      "Numero auxiliar:1\n",
      "Numero auxiliar:2\n",
      "Numero auxiliar:3\n",
      "Numero auxiliar:4\n",
      "Numero auxiliar:5\n",
      "Numero auxiliar:6\n",
      "Numero auxiliar:7\n",
      "Numero auxiliar:8\n",
      "Numero auxiliar:9\n"
     ]
    }
   ],
   "source": [
    "numeroAuxiliar = 0\n",
    "while numeroAuxiliar < 10:\n",
    "    print(f\"Numero auxiliar:{numeroAuxiliar}\")\n",
    "    numeroAuxiliar += 1"
   ]
  },
  {
   "cell_type": "markdown",
   "metadata": {},
   "source": [
    "# DICCIONARIOS"
   ]
  },
  {
   "cell_type": "code",
   "execution_count": 4,
   "metadata": {},
   "outputs": [],
   "source": [
    "# JSON -> Diccionario\n",
    "Isssac = 'Issac'\n",
    "miguel = {\n",
    "    'nombre': 'Miguel',\n",
    "    'apellido': 'Alvarez',\n",
    "    'edad': '22',\n",
    "    'hijos': None,\n",
    "    'issac': Isssac,\n",
    "    'casado': False,\n",
    "    'sueldo': 12.2,\n",
    "    'mascotas': [\n",
    "        {\n",
    "            'nombre': 'Nikita',\n",
    "            'edad': 5\n",
    "        }\n",
    "    ],\n",
    "    \"carro\": (0,1,2)\n",
    "    \n",
    "}"
   ]
  },
  {
   "cell_type": "code",
   "execution_count": 5,
   "metadata": {},
   "outputs": [
    {
     "data": {
      "text/plain": [
       "'Miguel'"
      ]
     },
     "execution_count": 5,
     "metadata": {},
     "output_type": "execute_result"
    }
   ],
   "source": [
    "miguel['nombre'] #para poder acceder al  diccionario se utiliza el string"
   ]
  },
  {
   "cell_type": "code",
   "execution_count": 20,
   "metadata": {},
   "outputs": [
    {
     "data": {
      "text/plain": [
       "[{'nombre': 'Nikita', 'edad': 5}]"
      ]
     },
     "execution_count": 20,
     "metadata": {},
     "output_type": "execute_result"
    }
   ],
   "source": [
    "miguel['mascotas']"
   ]
  },
  {
   "cell_type": "code",
   "execution_count": 21,
   "metadata": {},
   "outputs": [
    {
     "data": {
      "text/plain": [
       "{'nombre': 'Nikita', 'edad': 5}"
      ]
     },
     "execution_count": 21,
     "metadata": {},
     "output_type": "execute_result"
    }
   ],
   "source": [
    "miguel['mascotas'][0]"
   ]
  },
  {
   "cell_type": "code",
   "execution_count": 22,
   "metadata": {},
   "outputs": [
    {
     "data": {
      "text/plain": [
       "'Nikita'"
      ]
     },
     "execution_count": 22,
     "metadata": {},
     "output_type": "execute_result"
    }
   ],
   "source": [
    "miguel['mascotas'][0]['nombre']"
   ]
  },
  {
   "cell_type": "code",
   "execution_count": 23,
   "metadata": {},
   "outputs": [
    {
     "data": {
      "text/plain": [
       "'Miguel'"
      ]
     },
     "execution_count": 23,
     "metadata": {},
     "output_type": "execute_result"
    }
   ],
   "source": [
    "miguel.get('nombre')"
   ]
  },
  {
   "cell_type": "code",
   "execution_count": 24,
   "metadata": {},
   "outputs": [
    {
     "data": {
      "text/plain": [
       "{'nombre': 'Miguel',\n",
       " 'apellido': 'Alvarez',\n",
       " 'edad': '22',\n",
       " 'hijos': None,\n",
       " 'issac': 'Issac',\n",
       " 'casado': False,\n",
       " 'sueldo': 12.2,\n",
       " 'mascotas': [{'nombre': 'Nikita', 'edad': 5}],\n",
       " 'carro': (0, 1, 2)}"
      ]
     },
     "execution_count": 24,
     "metadata": {},
     "output_type": "execute_result"
    }
   ],
   "source": [
    "miguel"
   ]
  },
  {
   "cell_type": "code",
   "execution_count": 25,
   "metadata": {},
   "outputs": [
    {
     "data": {
      "text/plain": [
       "'Issac'"
      ]
     },
     "execution_count": 25,
     "metadata": {},
     "output_type": "execute_result"
    }
   ],
   "source": [
    "miguel.pop('issac')"
   ]
  },
  {
   "cell_type": "code",
   "execution_count": 26,
   "metadata": {},
   "outputs": [
    {
     "data": {
      "text/plain": [
       "{'nombre': 'Miguel',\n",
       " 'apellido': 'Alvarez',\n",
       " 'edad': '22',\n",
       " 'hijos': None,\n",
       " 'casado': False,\n",
       " 'sueldo': 12.2,\n",
       " 'mascotas': [{'nombre': 'Nikita', 'edad': 5}],\n",
       " 'carro': (0, 1, 2)}"
      ]
     },
     "execution_count": 26,
     "metadata": {},
     "output_type": "execute_result"
    }
   ],
   "source": [
    "miguel"
   ]
  },
  {
   "cell_type": "code",
   "execution_count": 27,
   "metadata": {},
   "outputs": [
    {
     "data": {
      "text/plain": [
       "dict_values(['Miguel', 'Alvarez', '22', None, False, 12.2, [{'nombre': 'Nikita', 'edad': 5}], (0, 1, 2)])"
      ]
     },
     "execution_count": 27,
     "metadata": {},
     "output_type": "execute_result"
    }
   ],
   "source": [
    "miguel.values()"
   ]
  },
  {
   "cell_type": "code",
   "execution_count": 28,
   "metadata": {},
   "outputs": [
    {
     "data": {
      "text/plain": [
       "dict_keys(['nombre', 'apellido', 'edad', 'hijos', 'casado', 'sueldo', 'mascotas', 'carro'])"
      ]
     },
     "execution_count": 28,
     "metadata": {},
     "output_type": "execute_result"
    }
   ],
   "source": [
    "miguel.keys()"
   ]
  },
  {
   "cell_type": "code",
   "execution_count": 29,
   "metadata": {},
   "outputs": [
    {
     "data": {
      "text/plain": [
       "dict_values"
      ]
     },
     "execution_count": 29,
     "metadata": {},
     "output_type": "execute_result"
    }
   ],
   "source": [
    "type(miguel.values())"
   ]
  },
  {
   "cell_type": "code",
   "execution_count": 30,
   "metadata": {},
   "outputs": [
    {
     "data": {
      "text/plain": [
       "dict_keys"
      ]
     },
     "execution_count": 30,
     "metadata": {},
     "output_type": "execute_result"
    }
   ],
   "source": [
    "type(miguel.keys())"
   ]
  },
  {
   "cell_type": "code",
   "execution_count": 31,
   "metadata": {},
   "outputs": [
    {
     "name": "stdout",
     "output_type": "stream",
     "text": [
      "Llave: nombre Valor: Miguel\n",
      "Llave: apellido Valor: Alvarez\n",
      "Llave: edad Valor: 22\n",
      "Llave: hijos Valor: None\n",
      "Llave: casado Valor: False\n",
      "Llave: sueldo Valor: 12.2\n",
      "Llave: mascotas Valor: [{'nombre': 'Nikita', 'edad': 5}]\n",
      "Llave: carro Valor: (0, 1, 2)\n"
     ]
    }
   ],
   "source": [
    "for key in miguel.keys():\n",
    "    print(f\"Llave: {key} Valor: {miguel[key]}\")"
   ]
  },
  {
   "cell_type": "code",
   "execution_count": 34,
   "metadata": {},
   "outputs": [],
   "source": [
    "miguel['issac'] = Isssac"
   ]
  },
  {
   "cell_type": "code",
   "execution_count": 35,
   "metadata": {},
   "outputs": [
    {
     "data": {
      "text/plain": [
       "{'nombre': 'Miguel',\n",
       " 'apellido': 'Alvarez',\n",
       " 'edad': '22',\n",
       " 'hijos': None,\n",
       " 'casado': False,\n",
       " 'sueldo': 12.2,\n",
       " 'mascotas': [{'nombre': 'Nikita', 'edad': 5}],\n",
       " 'carro': (0, 1, 2),\n",
       " 'issac': 'Issac'}"
      ]
     },
     "execution_count": 35,
     "metadata": {},
     "output_type": "execute_result"
    }
   ],
   "source": [
    "miguel"
   ]
  },
  {
   "cell_type": "code",
   "execution_count": 36,
   "metadata": {},
   "outputs": [],
   "source": [
    "valores_nuevos = {\n",
    "    'talia': 'Talia',\n",
    "    'rafico': 'Rafico',\n",
    "    'lula': 'Lula'\n",
    "}"
   ]
  },
  {
   "cell_type": "code",
   "execution_count": 37,
   "metadata": {},
   "outputs": [],
   "source": [
    "miguel.update(valores_nuevos)"
   ]
  },
  {
   "cell_type": "code",
   "execution_count": 44,
   "metadata": {},
   "outputs": [
    {
     "data": {
      "text/plain": [
       "{'nombre': 'Miguel',\n",
       " 'apellido': 'Alvarez',\n",
       " 'edad': '22',\n",
       " 'hijos': None,\n",
       " 'casado': False,\n",
       " 'sueldo': 12.2,\n",
       " 'mascotas': [{'nombre': 'Nikita',\n",
       "   'edad': 5,\n",
       "   'talia': 'Talia',\n",
       "   'rafico': 'Rafico',\n",
       "   'lula': 'Lula'}],\n",
       " 'carro': (0, 1, 2),\n",
       " 'issac': 'Issac',\n",
       " 'talia': 'Talia',\n",
       " 'rafico': 'Rafico',\n",
       " 'lula': 'Lula'}"
      ]
     },
     "execution_count": 44,
     "metadata": {},
     "output_type": "execute_result"
    }
   ],
   "source": [
    "miguel"
   ]
  },
  {
   "cell_type": "code",
   "execution_count": 46,
   "metadata": {},
   "outputs": [],
   "source": [
    "miguel.get('mascotas')[0].update(valores_nuevos)"
   ]
  },
  {
   "cell_type": "code",
   "execution_count": 42,
   "metadata": {},
   "outputs": [
    {
     "data": {
      "text/plain": [
       "{'nombre': 'Miguel',\n",
       " 'apellido': 'Alvarez',\n",
       " 'edad': '22',\n",
       " 'hijos': None,\n",
       " 'casado': False,\n",
       " 'sueldo': 12.2,\n",
       " 'mascotas': [{'nombre': 'Nikita',\n",
       "   'edad': 5,\n",
       "   'talia': 'Talia',\n",
       "   'rafico': 'Rafico',\n",
       "   'lula': 'Lula'}],\n",
       " 'carro': (0, 1, 2),\n",
       " 'issac': 'Issac',\n",
       " 'talia': 'Talia',\n",
       " 'rafico': 'Rafico',\n",
       " 'lula': 'Lula'}"
      ]
     },
     "execution_count": 42,
     "metadata": {},
     "output_type": "execute_result"
    }
   ],
   "source": [
    "miguel"
   ]
  },
  {
   "cell_type": "code",
   "execution_count": 48,
   "metadata": {},
   "outputs": [],
   "source": [
    "miguel.get('asd')"
   ]
  },
  {
   "cell_type": "code",
   "execution_count": 51,
   "metadata": {},
   "outputs": [],
   "source": [
    "# miguel['asd'] -> Error"
   ]
  },
  {
   "cell_type": "code",
   "execution_count": null,
   "metadata": {},
   "outputs": [],
   "source": []
  },
  {
   "cell_type": "code",
   "execution_count": null,
   "metadata": {},
   "outputs": [],
   "source": []
  },
  {
   "cell_type": "code",
   "execution_count": null,
   "metadata": {},
   "outputs": [],
   "source": []
  },
  {
   "cell_type": "code",
   "execution_count": null,
   "metadata": {},
   "outputs": [],
   "source": []
  },
  {
   "cell_type": "code",
   "execution_count": null,
   "metadata": {},
   "outputs": [],
   "source": []
  },
  {
   "cell_type": "code",
   "execution_count": null,
   "metadata": {},
   "outputs": [],
   "source": []
  }
 ],
 "metadata": {
  "kernelspec": {
   "display_name": "Python 3",
   "language": "python",
   "name": "python3"
  },
  "language_info": {
   "codemirror_mode": {
    "name": "ipython",
    "version": 3
   },
   "file_extension": ".py",
   "mimetype": "text/x-python",
   "name": "python",
   "nbconvert_exporter": "python",
   "pygments_lexer": "ipython3",
   "version": "3.7.3"
  }
 },
 "nbformat": 4,
 "nbformat_minor": 2
}
