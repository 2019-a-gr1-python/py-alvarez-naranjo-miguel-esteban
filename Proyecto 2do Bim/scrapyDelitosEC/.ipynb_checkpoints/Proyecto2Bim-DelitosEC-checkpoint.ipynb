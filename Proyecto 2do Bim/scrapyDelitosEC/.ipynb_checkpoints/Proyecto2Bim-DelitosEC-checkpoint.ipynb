{
 "cells": [
  {
   "cell_type": "markdown",
   "metadata": {},
   "source": [
    "# Escuela Politécnica Nacional\n",
    "\n",
    "# Proyecto 2do Bimestre\n",
    "\n",
    "# Analisis de delitos penales obtenidos de la Fiscalía General del Estado Ecuatoriano a traves de la herramienta Scrapy con python\n",
    "\n",
    "## Miguel Esteban Álvarez Naranjo"
   ]
  },
  {
   "cell_type": "code",
   "execution_count": 1,
   "metadata": {},
   "outputs": [],
   "source": [
    "import numpy as np\n",
    "import pandas as pd\n",
    "import matplotlib.pyplot as plt"
   ]
  },
  {
   "cell_type": "markdown",
   "metadata": {},
   "source": [
    "## Obtencion de los datos\n",
    "\n",
    "### para la obtencion de los datos se realizo scrapy a la página de la fiscalia general del estado: https://www.fiscalia.gob.ec/consulta-de-noticias-del-delito/\n",
    "\n",
    "### la url se obtuvo llenando el campo de busqueda con nombres comunes del ecuador\n",
    "\n",
    "![captura](/Captura.PNG \"pagian fiscalia general del estado]\")\n"
   ]
  },
  {
   "cell_type": "code",
   "execution_count": null,
   "metadata": {},
   "outputs": [],
   "source": []
  }
 ],
 "metadata": {
  "kernelspec": {
   "display_name": "Python 3",
   "language": "python",
   "name": "python3"
  },
  "language_info": {
   "codemirror_mode": {
    "name": "ipython",
    "version": 3
   },
   "file_extension": ".py",
   "mimetype": "text/x-python",
   "name": "python",
   "nbconvert_exporter": "python",
   "pygments_lexer": "ipython3",
   "version": "3.7.3"
  }
 },
 "nbformat": 4,
 "nbformat_minor": 2
}
