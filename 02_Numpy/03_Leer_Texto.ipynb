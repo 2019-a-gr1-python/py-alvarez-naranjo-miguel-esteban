{
 "cells": [
  {
   "cell_type": "markdown",
   "metadata": {},
   "source": [
    "# Leer texto"
   ]
  },
  {
   "cell_type": "code",
   "execution_count": 2,
   "metadata": {},
   "outputs": [],
   "source": [
    "import numpy as np"
   ]
  },
  {
   "cell_type": "code",
   "execution_count": 5,
   "metadata": {},
   "outputs": [],
   "source": [
    "path = './data/salarios.csv'\n",
    "arreglo_salarios = np.genfromtxt(path, delimiter=',')"
   ]
  },
  {
   "cell_type": "code",
   "execution_count": 6,
   "metadata": {},
   "outputs": [
    {
     "data": {
      "text/plain": [
       "array([[200., 250., 300., 350., 450., 500., 105., 261., 321., 156., 845.],\n",
       "       [200., 250., 300., 350., 450., 500., 105., 261., 321., 156., 845.],\n",
       "       [200., 250., 300., 350., 450., 500., 105., 261., 321., 156., 845.],\n",
       "       [200., 250., 300., 350., 450., 500., 105., 261., 321., 156., 845.],\n",
       "       [200., 250., 300., 350., 450., 500., 105., 261., 321., 156., 845.],\n",
       "       [200., 250., 300., 350., 450., 500., 105., 261., 321., 156., 845.],\n",
       "       [200., 250., 300., 350., 450., 500., 105., 261., 321., 156., 845.],\n",
       "       [200., 250., 300., 350., 450., 500., 105., 261., 321., 156., 845.]])"
      ]
     },
     "execution_count": 6,
     "metadata": {},
     "output_type": "execute_result"
    }
   ],
   "source": [
    "arreglo_salarios"
   ]
  },
  {
   "cell_type": "code",
   "execution_count": 7,
   "metadata": {},
   "outputs": [
    {
     "data": {
      "text/plain": [
       "(8, 11)"
      ]
     },
     "execution_count": 7,
     "metadata": {},
     "output_type": "execute_result"
    }
   ],
   "source": [
    "arreglo_salarios.shape"
   ]
  },
  {
   "cell_type": "code",
   "execution_count": 9,
   "metadata": {},
   "outputs": [
    {
     "data": {
      "text/plain": [
       "array([[220. , 275. , 330. , 385. , 495. , 550. , 115.5, 287.1, 353.1,\n",
       "        171.6, 929.5],\n",
       "       [220. , 275. , 330. , 385. , 495. , 550. , 115.5, 287.1, 353.1,\n",
       "        171.6, 929.5],\n",
       "       [220. , 275. , 330. , 385. , 495. , 550. , 115.5, 287.1, 353.1,\n",
       "        171.6, 929.5],\n",
       "       [220. , 275. , 330. , 385. , 495. , 550. , 115.5, 287.1, 353.1,\n",
       "        171.6, 929.5],\n",
       "       [220. , 275. , 330. , 385. , 495. , 550. , 115.5, 287.1, 353.1,\n",
       "        171.6, 929.5],\n",
       "       [220. , 275. , 330. , 385. , 495. , 550. , 115.5, 287.1, 353.1,\n",
       "        171.6, 929.5],\n",
       "       [220. , 275. , 330. , 385. , 495. , 550. , 115.5, 287.1, 353.1,\n",
       "        171.6, 929.5],\n",
       "       [220. , 275. , 330. , 385. , 495. , 550. , 115.5, 287.1, 353.1,\n",
       "        171.6, 929.5]])"
      ]
     },
     "execution_count": 9,
     "metadata": {},
     "output_type": "execute_result"
    }
   ],
   "source": [
    "arreglo_salarios = arreglo_salarios * 1.1\n",
    "arreglo_salarios"
   ]
  },
  {
   "cell_type": "code",
   "execution_count": 15,
   "metadata": {},
   "outputs": [],
   "source": [
    "np.savetxt(path, arreglo_salarios, delimiter=',', fmt='%4d')"
   ]
  },
  {
   "cell_type": "code",
   "execution_count": null,
   "metadata": {},
   "outputs": [],
   "source": []
  }
 ],
 "metadata": {
  "kernelspec": {
   "display_name": "Python 3",
   "language": "python",
   "name": "python3"
  },
  "language_info": {
   "codemirror_mode": {
    "name": "ipython",
    "version": 3
   },
   "file_extension": ".py",
   "mimetype": "text/x-python",
   "name": "python",
   "nbconvert_exporter": "python",
   "pygments_lexer": "ipython3",
   "version": "3.7.3"
  }
 },
 "nbformat": 4,
 "nbformat_minor": 2
}
