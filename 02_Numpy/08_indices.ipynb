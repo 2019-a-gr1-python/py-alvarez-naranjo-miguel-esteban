{
 "cells": [
  {
   "cell_type": "markdown",
   "metadata": {},
   "source": [
    "# Indices"
   ]
  },
  {
   "cell_type": "code",
   "execution_count": 2,
   "metadata": {},
   "outputs": [],
   "source": [
    "import numpy as np"
   ]
  },
  {
   "cell_type": "code",
   "execution_count": 2,
   "metadata": {},
   "outputs": [],
   "source": [
    "numeros = np.arange(11)**2"
   ]
  },
  {
   "cell_type": "code",
   "execution_count": 3,
   "metadata": {},
   "outputs": [
    {
     "data": {
      "text/plain": [
       "array([  0,   1,   4,   9,  16,  25,  36,  49,  64,  81, 100], dtype=int32)"
      ]
     },
     "execution_count": 3,
     "metadata": {},
     "output_type": "execute_result"
    }
   ],
   "source": [
    "numeros"
   ]
  },
  {
   "cell_type": "code",
   "execution_count": 4,
   "metadata": {},
   "outputs": [],
   "source": [
    "indices = [2,5,7]"
   ]
  },
  {
   "cell_type": "code",
   "execution_count": 6,
   "metadata": {},
   "outputs": [
    {
     "data": {
      "text/plain": [
       "array([ 4, 25, 49], dtype=int32)"
      ]
     },
     "execution_count": 6,
     "metadata": {},
     "output_type": "execute_result"
    }
   ],
   "source": [
    "numeros[indices]"
   ]
  },
  {
   "cell_type": "code",
   "execution_count": 4,
   "metadata": {},
   "outputs": [],
   "source": [
    "arreglo_frutas = np.array([\n",
    "    ['Piña','Manzana','Pera','Melon'],\n",
    "    ['Pera','Uva','Naranja','Papaya'],\n",
    "    ['Frutilla','Platano','Granadilla','Sandia']\n",
    "])"
   ]
  },
  {
   "cell_type": "code",
   "execution_count": 11,
   "metadata": {},
   "outputs": [
    {
     "data": {
      "text/plain": [
       "(3, 4)"
      ]
     },
     "execution_count": 11,
     "metadata": {},
     "output_type": "execute_result"
    }
   ],
   "source": [
    "arreglo_frutas.shape"
   ]
  },
  {
   "cell_type": "code",
   "execution_count": 9,
   "metadata": {},
   "outputs": [],
   "source": [
    "arreglo_filas = np.array([\n",
    "    [0,0],\n",
    "    [1,1],\n",
    "    [2,2],\n",
    "])"
   ]
  },
  {
   "cell_type": "code",
   "execution_count": 10,
   "metadata": {},
   "outputs": [],
   "source": [
    "arreglo_columnas = np.array([\n",
    "    [1,3],\n",
    "    [1,2],\n",
    "    [0,2],\n",
    "])"
   ]
  },
  {
   "cell_type": "code",
   "execution_count": 11,
   "metadata": {},
   "outputs": [
    {
     "data": {
      "text/plain": [
       "array([['Manzana', 'Melon'],\n",
       "       ['Uva', 'Naranja'],\n",
       "       ['Frutilla', 'Granadilla']], dtype='<U10')"
      ]
     },
     "execution_count": 11,
     "metadata": {},
     "output_type": "execute_result"
    }
   ],
   "source": [
    "arreglo_frutas[arreglo_filas,arreglo_columnas]"
   ]
  },
  {
   "cell_type": "code",
   "execution_count": 6,
   "metadata": {},
   "outputs": [
    {
     "data": {
      "text/plain": [
       "array([['Piña', 'Manzana', 'Pera', 'Melon'],\n",
       "       ['Pera', 'Uva', 'Naranja', 'Papaya'],\n",
       "       ['Frutilla', 'Platano', 'Granadilla', 'Sandia']], dtype='<U10')"
      ]
     },
     "execution_count": 6,
     "metadata": {},
     "output_type": "execute_result"
    }
   ],
   "source": [
    "arreglo_frutas"
   ]
  },
  {
   "cell_type": "code",
   "execution_count": 15,
   "metadata": {},
   "outputs": [],
   "source": [
    "arreglo_filas = np.array([\n",
    "    [0,0],\n",
    "    [1,1],\n",
    "    [2,2],\n",
    "])"
   ]
  },
  {
   "cell_type": "code",
   "execution_count": 37,
   "metadata": {},
   "outputs": [],
   "source": [
    "arreglo_frutas_3d = np.array([[['Piña','Manzana'],\n",
    "                                ['Pera','Melon'],\n",
    "                                ['Ciruela','Uva'],\n",
    "                                ['Orito','Mandarina']],\n",
    "                              \n",
    "                               [['Piña2','Manzana2'],\n",
    "                                ['Pera2','Melon2'],\n",
    "                                ['Ciruela2','Uva2'],\n",
    "                                ['Orito2','Mandarina2']],\n",
    "                              \n",
    "                               [['Piña3','Manzana3'],\n",
    "                                ['Pera3','Melon3'],\n",
    "                                ['Ciruela3','Uva3'],\n",
    "                                ['Orito3','Mandarina3']]\n",
    "])\n"
   ]
  },
  {
   "cell_type": "code",
   "execution_count": 38,
   "metadata": {},
   "outputs": [
    {
     "data": {
      "text/plain": [
       "(3, 4, 2)"
      ]
     },
     "execution_count": 38,
     "metadata": {},
     "output_type": "execute_result"
    }
   ],
   "source": [
    "arreglo_frutas_3d.shape"
   ]
  },
  {
   "cell_type": "code",
   "execution_count": 46,
   "metadata": {},
   "outputs": [
    {
     "data": {
      "text/plain": [
       "'Uva2'"
      ]
     },
     "execution_count": 46,
     "metadata": {},
     "output_type": "execute_result"
    }
   ],
   "source": [
    "arreglo_frutas_3d[1][2][1]"
   ]
  },
  {
   "cell_type": "code",
   "execution_count": 22,
   "metadata": {},
   "outputs": [
    {
     "data": {
      "text/plain": [
       "array(['Piña', 'Manzana'], dtype='<U8')"
      ]
     },
     "execution_count": 22,
     "metadata": {},
     "output_type": "execute_result"
    }
   ],
   "source": [
    "arreglo_frutas_3d[np.array([0,0]),np.array([0,0]), np.array([0,1])]"
   ]
  },
  {
   "cell_type": "code",
   "execution_count": 18,
   "metadata": {},
   "outputs": [],
   "source": [
    "arreglo_frutas_unaD = np.array([\n",
    "    'Piña','Manzana','Pera','Melon',\n",
    "    'Pera','Uva','Naranja','Papaya',\n",
    "    'Frutilla','Platano','Granadilla','Sandia'\n",
    "])"
   ]
  },
  {
   "cell_type": "code",
   "execution_count": 39,
   "metadata": {},
   "outputs": [
    {
     "data": {
      "text/plain": [
       "array([[['Piña', 'Manzana'],\n",
       "        ['Pera', 'Melon'],\n",
       "        ['Ciruela', 'Uva'],\n",
       "        ['Orito', 'Mandarina']],\n",
       "\n",
       "       [['Piña2', 'Manzana2'],\n",
       "        ['Pera2', 'Melon2'],\n",
       "        ['Ciruela2', 'Uva2'],\n",
       "        ['Orito2', 'Mandarina2']],\n",
       "\n",
       "       [['Piña3', 'Manzana3'],\n",
       "        ['Pera3', 'Melon3'],\n",
       "        ['Ciruela3', 'Uva3'],\n",
       "        ['Orito3', 'Mandarina3']]], dtype='<U10')"
      ]
     },
     "execution_count": 39,
     "metadata": {},
     "output_type": "execute_result"
    }
   ],
   "source": [
    "arreglo_frutas_3d "
   ]
  },
  {
   "cell_type": "code",
   "execution_count": 48,
   "metadata": {},
   "outputs": [],
   "source": [
    "primera_dimension = np.array([\n",
    "    [0,0],[0,0],[0,0],[0,0],\n",
    "    [1,1],[1,1],[1,1],[1,1],\n",
    "    [2,2],[2,2],[2,2],[2,2],\n",
    "])\n",
    "\n",
    "segunda_dimension = np.array([\n",
    "    [0,0],[1,1],[2,2],[3,3],\n",
    "    [0,0],[1,1],[2,2],[3,3],\n",
    "    [0,0],[1,1],[2,2],[3,3],\n",
    "])\n",
    "\n",
    "tercera_dimension = np.array([\n",
    "    [0,1],[0,1],[0,1],[0,1],\n",
    "    [0,1],[0,1],[0,1],[0,1],\n",
    "    [0,1],[0,1],[0,1],[0,1],\n",
    "])\n",
    "\n"
   ]
  },
  {
   "cell_type": "code",
   "execution_count": 40,
   "metadata": {},
   "outputs": [
    {
     "data": {
      "text/plain": [
       "array([[['Piña', 'Manzana'],\n",
       "        ['Pera', 'Melon'],\n",
       "        ['Ciruela', 'Uva'],\n",
       "        ['Orito', 'Mandarina']],\n",
       "\n",
       "       [['Piña2', 'Manzana2'],\n",
       "        ['Pera2', 'Melon2'],\n",
       "        ['Ciruela2', 'Uva2'],\n",
       "        ['Orito2', 'Mandarina2']],\n",
       "\n",
       "       [['Piña3', 'Manzana3'],\n",
       "        ['Pera3', 'Melon3'],\n",
       "        ['Ciruela3', 'Uva3'],\n",
       "        ['Orito3', 'Mandarina3']]], dtype='<U10')"
      ]
     },
     "execution_count": 40,
     "metadata": {},
     "output_type": "execute_result"
    }
   ],
   "source": [
    "arreglo_frutas_3d"
   ]
  },
  {
   "cell_type": "code",
   "execution_count": 50,
   "metadata": {},
   "outputs": [
    {
     "data": {
      "text/plain": [
       "array([['Piña', 'Manzana'],\n",
       "       ['Pera', 'Melon'],\n",
       "       ['Ciruela', 'Uva'],\n",
       "       ['Orito', 'Mandarina'],\n",
       "       ['Piña2', 'Manzana2'],\n",
       "       ['Pera2', 'Melon2'],\n",
       "       ['Ciruela2', 'Uva2'],\n",
       "       ['Orito2', 'Mandarina2'],\n",
       "       ['Piña3', 'Manzana3'],\n",
       "       ['Pera3', 'Melon3'],\n",
       "       ['Ciruela3', 'Uva3'],\n",
       "       ['Orito3', 'Mandarina3']], dtype='<U10')"
      ]
     },
     "execution_count": 50,
     "metadata": {},
     "output_type": "execute_result"
    }
   ],
   "source": [
    "arreglo_frutas_3d [primera_dimension,segunda_dimension,tercera_dimension]"
   ]
  },
  {
   "cell_type": "code",
   "execution_count": 46,
   "metadata": {},
   "outputs": [],
   "source": [
    "palabras_con_P = np.array([frutas.startswith('P') for frutas in arreglo_frutas_3d.flatten()])"
   ]
  },
  {
   "cell_type": "code",
   "execution_count": 47,
   "metadata": {},
   "outputs": [
    {
     "data": {
      "text/plain": [
       "array(['Piña', 'Pera', 'Piña2', 'Pera2', 'Piña3', 'Pera3'], dtype='<U10')"
      ]
     },
     "execution_count": 47,
     "metadata": {},
     "output_type": "execute_result"
    }
   ],
   "source": [
    "arreglo_frutas_3d.flatten()[palabras_con_P]"
   ]
  },
  {
   "cell_type": "code",
   "execution_count": 53,
   "metadata": {},
   "outputs": [
    {
     "name": "stdout",
     "output_type": "stream",
     "text": [
      "['Piña' 'Pera' 'Piña2' 'Pera2' 'Piña3' 'Pera3']\n"
     ]
    }
   ],
   "source": [
    "print(arreglo_frutas_3d[np.where(arreglo_frutas_3d.astype('<U1') == 'P')])"
   ]
  },
  {
   "cell_type": "code",
   "execution_count": null,
   "metadata": {},
   "outputs": [],
   "source": []
  }
 ],
 "metadata": {
  "kernelspec": {
   "display_name": "Python 3",
   "language": "python",
   "name": "python3"
  },
  "language_info": {
   "codemirror_mode": {
    "name": "ipython",
    "version": 3
   },
   "file_extension": ".py",
   "mimetype": "text/x-python",
   "name": "python",
   "nbconvert_exporter": "python",
   "pygments_lexer": "ipython3",
   "version": "3.7.3"
  }
 },
 "nbformat": 4,
 "nbformat_minor": 2
}
